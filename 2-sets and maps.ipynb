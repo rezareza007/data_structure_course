{
 "cells": [
  {
   "cell_type": "markdown",
   "metadata": {},
   "source": [
    "# Sets"
   ]
  },
  {
   "cell_type": "code",
   "execution_count": 2,
   "metadata": {},
   "outputs": [],
   "source": [
    "# Implementation of the Set ADT container using a Python list.\n",
    "class Set :\n",
    "    # Creates an empty set instance.\n",
    "    def __init__( self ):\n",
    "        self._theElements =[]# list() \n",
    "        # Returns the number of items in the set.\n",
    "    def __len__( self ):\n",
    "        return len( self._theElements )\n",
    "\n",
    "    # Determines if an element is in the set.\n",
    "    def __contains__( self, element ):\n",
    "        return element in self._theElements\n",
    "\n",
    "    # Adds a new unique element to the set.\n",
    "    def add( self, element ):\n",
    "        if element not in self :\n",
    "            self._theElements.append( element )\n",
    "\n",
    "    # Removes an element from the set.\n",
    "    def remove( self, element ):\n",
    "        assert element in self, \"The element must be in the set.\"\n",
    "        self._theElements.remove( element )\n",
    "\n",
    "    # Determines if two sets are equal.\n",
    "    def __eq__( self, setB ):\n",
    "        if len( self ) != len( setB ) :\n",
    "            return False\n",
    "        else :\n",
    "            return self.isSubsetOf( setB )\n",
    "\n",
    "    # Determines if this set is a subset of setB.\n",
    "    def isSubsetOf( self, setB ):\n",
    "        for element in self :\n",
    "            if element not in setB :\n",
    "                return False\n",
    "        return True\n",
    "\n",
    "    # Creates a new set from the union of this set and setB.\n",
    "    def union( self, setB ):\n",
    "        newSet = Set()\n",
    "        newSet._theElements.extend (self._theElements )\n",
    "        for element in setB :\n",
    "            if element not in self :\n",
    "                newSet._theElements.append( element )\n",
    "        return newSet\n",
    "\n",
    "    # Creates a new set from the intersection: self set and setB.\n",
    "    def intersect( self, setB ):\n",
    "        X=Set()\n",
    "        for x in self:\n",
    "            if x in setB:\n",
    "                X.add(x)\n",
    "        return X        \n",
    "\n",
    "    # Creates a new set from the difference: self set and setB.\n",
    "    def difference( self, setB ):\n",
    "        Diff=Set()\n",
    "        U=self.union(setB)\n",
    "        I=self.intersect(setB)\n",
    "\n",
    "        for x in U:\n",
    "            if x not in I:\n",
    "                Diff.add(x)\n",
    "        return Diff        \n",
    "\n",
    "\n",
    "\n",
    "\n",
    "\n",
    "    # Returns an iterator for traversing the list of items.\n",
    "    def __iter__( self ):\n",
    "        return _SetIterator( self._theElements )\n"
   ]
  },
  {
   "cell_type": "code",
   "execution_count": 3,
   "metadata": {},
   "outputs": [
    {
     "data": {
      "text/plain": [
       "[2, 3]"
      ]
     },
     "execution_count": 3,
     "metadata": {},
     "output_type": "execute_result"
    }
   ],
   "source": [
    "L1=[2,3]\n",
    "L2=L1.copy()\n",
    "L1.append(4)\n",
    "L2"
   ]
  },
  {
   "cell_type": "markdown",
   "metadata": {},
   "source": [
    "# Maps"
   ]
  },
  {
   "cell_type": "code",
   "execution_count": 13,
   "metadata": {},
   "outputs": [],
   "source": [
    "# Implementation of Map ADT using a single list.\n",
    "class _MapEntry :\n",
    "        def __init__( self, key, value ):\n",
    "            self.key = key\n",
    "            self.value = value\n",
    "    \n",
    "class Map :\n",
    "    # Creates an empty map instance.\n",
    "    def __init__( self ):\n",
    "        self._entryList = list() \n",
    "        # Returns the number of entries in the map.\n",
    "    def __len__( self ):\n",
    "        return len( self._entryList )\n",
    "    # Storage class for holding the key/value pairs.\n",
    "    \n",
    "\n",
    "    # Determines if the map contains the given key.\n",
    "    def __contains__( self, key ):\n",
    "        ndx = self._findPosition( key )\n",
    "        return ndx is not None\n",
    "\n",
    "    # Adds a new entry to the map if the key does exist. Otherwise, the\n",
    "    # new value replaces the current value associated with the key.\n",
    "    def add( self, key, value ):\n",
    "        ndx = self._findPosition( key )\n",
    "        if ndx is not None : # if the key was found\n",
    "            self._entryList[ndx].value = value\n",
    "            return False\n",
    "        else : # otherwise add a new entry\n",
    "            entry = _MapEntry( key, value )\n",
    "            self._entryList.append( entry )\n",
    "            return True\n",
    "\n",
    "    # Returns the value associated with the key.\n",
    "    def valueOf( self, key ):\n",
    "        ndx = self._findPosition( key )\n",
    "        assert ndx is not None, \"Invalid map key.\"\n",
    "        return self._entryList[ndx].value\n",
    "\n",
    "    # Removes the entry associated with the key.\n",
    "    def remove( self, key ):\n",
    "        ndx = self._findPosition( key )\n",
    "        assert ndx is not None, \"Invalid map key.\"\n",
    "        self._entryList.pop( ndx )\n",
    "\n",
    "    # Returns an iterator for traversing the keys in the map.\n",
    "    def __iter__( self ):\n",
    "        return _MapIterator( self._entryList )\n",
    "\n",
    "    # Helper method used to find the index position of a category. If the\n",
    "    # key is not found, None is returned.\n",
    "    def _findPosition( self, key ):\n",
    "        # Iterate through each entry in the list.\n",
    "        for i in range( len(self) ) :\n",
    "            # Is the key stored in the ith entry?\n",
    "            if self._entryList[i].key == key :\n",
    "                return i\n",
    "        # When not found, return None.\n",
    "        return None\n",
    "\n",
    "            "
   ]
  },
  {
   "cell_type": "code",
   "execution_count": 14,
   "metadata": {},
   "outputs": [],
   "source": [
    "D=Map()"
   ]
  },
  {
   "cell_type": "code",
   "execution_count": 15,
   "metadata": {},
   "outputs": [
    {
     "data": {
      "text/plain": [
       "True"
      ]
     },
     "execution_count": 15,
     "metadata": {},
     "output_type": "execute_result"
    }
   ],
   "source": [
    "D.add(\"Reza\", 1)"
   ]
  },
  {
   "cell_type": "code",
   "execution_count": 16,
   "metadata": {},
   "outputs": [
    {
     "data": {
      "text/plain": [
       "True"
      ]
     },
     "execution_count": 16,
     "metadata": {},
     "output_type": "execute_result"
    }
   ],
   "source": [
    "D.add(\"Ahmaz\", 6)"
   ]
  },
  {
   "cell_type": "code",
   "execution_count": 18,
   "metadata": {},
   "outputs": [
    {
     "data": {
      "text/plain": [
       "1"
      ]
     },
     "execution_count": 18,
     "metadata": {},
     "output_type": "execute_result"
    }
   ],
   "source": [
    "D.valueOf(\"Reza\")"
   ]
  },
  {
   "cell_type": "code",
   "execution_count": 19,
   "metadata": {},
   "outputs": [],
   "source": [
    "D.remove(\"Reza\")"
   ]
  },
  {
   "cell_type": "code",
   "execution_count": 20,
   "metadata": {},
   "outputs": [
    {
     "ename": "AssertionError",
     "evalue": "Invalid map key.",
     "output_type": "error",
     "traceback": [
      "\u001b[1;31m---------------------------------------------------------------------------\u001b[0m",
      "\u001b[1;31mAssertionError\u001b[0m                            Traceback (most recent call last)",
      "\u001b[1;32mc:\\Code\\Notebooks\\Data Structs\\sets and maps.ipynb Cell 11\u001b[0m line \u001b[0;36m1\n\u001b[1;32m----> <a href='vscode-notebook-cell:/c%3A/Code/Notebooks/Data%20Structs/sets%20and%20maps.ipynb#X15sZmlsZQ%3D%3D?line=0'>1</a>\u001b[0m D\u001b[39m.\u001b[39;49mvalueOf(\u001b[39m\"\u001b[39;49m\u001b[39mReza\u001b[39;49m\u001b[39m\"\u001b[39;49m)\n",
      "\u001b[1;32mc:\\Code\\Notebooks\\Data Structs\\sets and maps.ipynb Cell 11\u001b[0m line \u001b[0;36m3\n\u001b[0;32m     <a href='vscode-notebook-cell:/c%3A/Code/Notebooks/Data%20Structs/sets%20and%20maps.ipynb#X15sZmlsZQ%3D%3D?line=34'>35</a>\u001b[0m \u001b[39mdef\u001b[39;00m \u001b[39mvalueOf\u001b[39m( \u001b[39mself\u001b[39m, key ):\n\u001b[0;32m     <a href='vscode-notebook-cell:/c%3A/Code/Notebooks/Data%20Structs/sets%20and%20maps.ipynb#X15sZmlsZQ%3D%3D?line=35'>36</a>\u001b[0m     ndx \u001b[39m=\u001b[39m \u001b[39mself\u001b[39m\u001b[39m.\u001b[39m_findPosition( key )\n\u001b[1;32m---> <a href='vscode-notebook-cell:/c%3A/Code/Notebooks/Data%20Structs/sets%20and%20maps.ipynb#X15sZmlsZQ%3D%3D?line=36'>37</a>\u001b[0m     \u001b[39massert\u001b[39;00m ndx \u001b[39mis\u001b[39;00m \u001b[39mnot\u001b[39;00m \u001b[39mNone\u001b[39;00m, \u001b[39m\"\u001b[39m\u001b[39mInvalid map key.\u001b[39m\u001b[39m\"\u001b[39m\n\u001b[0;32m     <a href='vscode-notebook-cell:/c%3A/Code/Notebooks/Data%20Structs/sets%20and%20maps.ipynb#X15sZmlsZQ%3D%3D?line=37'>38</a>\u001b[0m     \u001b[39mreturn\u001b[39;00m \u001b[39mself\u001b[39m\u001b[39m.\u001b[39m_entryList[ndx]\u001b[39m.\u001b[39mvalue\n",
      "\u001b[1;31mAssertionError\u001b[0m: Invalid map key."
     ]
    }
   ],
   "source": [
    "D.valueOf(\"Reza\")"
   ]
  },
  {
   "cell_type": "code",
   "execution_count": 21,
   "metadata": {},
   "outputs": [
    {
     "data": {
      "text/plain": [
       "True"
      ]
     },
     "execution_count": 21,
     "metadata": {},
     "output_type": "execute_result"
    }
   ],
   "source": [
    "\"Ahmaz\" in D"
   ]
  },
  {
   "cell_type": "code",
   "execution_count": 22,
   "metadata": {},
   "outputs": [
    {
     "data": {
      "text/plain": [
       "False"
      ]
     },
     "execution_count": 22,
     "metadata": {},
     "output_type": "execute_result"
    }
   ],
   "source": [
    "\"Reza\" in D"
   ]
  },
  {
   "cell_type": "code",
   "execution_count": null,
   "metadata": {},
   "outputs": [],
   "source": [
    "L=[1,2,3]\n",
    "L.append(4)"
   ]
  }
 ],
 "metadata": {
  "kernelspec": {
   "display_name": "Python 3",
   "language": "python",
   "name": "python3"
  },
  "language_info": {
   "codemirror_mode": {
    "name": "ipython",
    "version": 3
   },
   "file_extension": ".py",
   "mimetype": "text/x-python",
   "name": "python",
   "nbconvert_exporter": "python",
   "pygments_lexer": "ipython3",
   "version": "3.8.2"
  }
 },
 "nbformat": 4,
 "nbformat_minor": 2
}

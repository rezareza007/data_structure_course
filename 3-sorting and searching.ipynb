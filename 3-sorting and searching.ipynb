{
 "cells": [
  {
   "cell_type": "code",
   "execution_count": 1,
   "metadata": {},
   "outputs": [
    {
     "ename": "SyntaxError",
     "evalue": "invalid syntax (1308606543.py, line 5)",
     "output_type": "error",
     "traceback": [
      "\u001b[1;36m  Cell \u001b[1;32mIn[1], line 5\u001b[1;36m\u001b[0m\n\u001b[1;33m    if theValues[i] == target\u001b[0m\n\u001b[1;37m                             ^\u001b[0m\n\u001b[1;31mSyntaxError\u001b[0m\u001b[1;31m:\u001b[0m invalid syntax\n"
     ]
    }
   ],
   "source": [
    "def linearSearch( theValues, target ) :\n",
    "    n = len( theValues )\n",
    "    for i in range( n ) :\n",
    "    # If the target is in the ith element, return True\n",
    "        if theValues[i] == target:\n",
    "            return i\n",
    "    return -1 # If not found, return False.\n"
   ]
  },
  {
   "cell_type": "code",
   "execution_count": 8,
   "metadata": {},
   "outputs": [],
   "source": [
    "def sortedLinearSearch( theValues, item ) :\n",
    "    n = len( theValues )\n",
    "    for i in range( n ) :\n",
    "        # If the target is found in the ith element, return True\n",
    "        if theValues[i] == item :\n",
    "             return True\n",
    "        # If target is larger than the ith element, it's not in the sequence.\n",
    "        elif theValues[i] > item :\n",
    "            return False\n",
    "\n",
    "    return False # The item is not in the sequence."
   ]
  },
  {
   "cell_type": "code",
   "execution_count": 9,
   "metadata": {},
   "outputs": [
    {
     "ename": "IndentationError",
     "evalue": "expected an indented block (2231446946.py, line 8)",
     "output_type": "error",
     "traceback": [
      "\u001b[1;36m  Cell \u001b[1;32mIn[9], line 8\u001b[1;36m\u001b[0m\n\u001b[1;33m    smallest = theValues[i]\u001b[0m\n\u001b[1;37m    ^\u001b[0m\n\u001b[1;31mIndentationError\u001b[0m\u001b[1;31m:\u001b[0m expected an indented block\n"
     ]
    }
   ],
   "source": [
    "def findSmallest( theValues ):\n",
    "    n = len( theValues )\n",
    "    # Assume the first item is the smallest value.\n",
    "    smallest = theValues[0]\n",
    "    # Determine if any other item in the sequence is smaller.\n",
    "    for i in range( 1, n ) :\n",
    "        if theValues[i] < smallest :\n",
    "            smallest = theValues[i]\n",
    "\n",
    "    return smallest # Return the smallest found."
   ]
  },
  {
   "cell_type": "code",
   "execution_count": 6,
   "metadata": {},
   "outputs": [],
   "source": [
    "def binarySearch( theValues, target ) :\n",
    "    # Start with the entire sequence of elements.\n",
    "    low = 0\n",
    "    high = len(theValues) - 1 \n",
    "    # Repeatedly subdivide the sequence in half until the target is found.\n",
    "    while low <= high :\n",
    "        # Find the midpoint of the sequence.\n",
    "        mid = (high + low) // 2\n",
    "        # Does the midpoint contain the target?\n",
    "        if theValues[mid] == target :\n",
    "            return True\n",
    "        # Or does the target precede the midpoint?\n",
    "        elif target < theValues[mid] :\n",
    "             high = mid - 1\n",
    "        # Or does it follow the midpoint?\n",
    "        else :\n",
    "            low = mid + 1\n",
    "\n",
    "    # If the sequence cannot be subdivided further, we're done.\n",
    "    return False\n"
   ]
  },
  {
   "cell_type": "code",
   "execution_count": 24,
   "metadata": {},
   "outputs": [],
   "source": [
    "# Sorts a sequence in ascending order using the bubble sort algorithm.\n",
    "def bubbleSort( theSeq ):\n",
    "    n = len( theSeq )\n",
    "    opers=0\n",
    "    swaps=0\n",
    "    # Perform n-1 bubble operations on the sequence\n",
    "    #In the iteration i, the i'th largest element is \"bubbled\" to the end of the list\n",
    "    for i in range( n - 1 ) :\n",
    "        \n",
    "        # Bubble the largest item to the end.\n",
    "        swap=False\n",
    "        for j in range( -i + n - 1 ) :\n",
    "            opers+=1\n",
    "            if theSeq[j] > theSeq[j + 1] : # swap the j and j+1 items.\n",
    "                swap=True\n",
    "                swaps+=1\n",
    "                tmp = theSeq[j]\n",
    "                theSeq[j] = theSeq[j + 1]\n",
    "                theSeq[j + 1] = tmp\n",
    "        print(theSeq) \n",
    "        #If no swap is done, the list is already sorted \n",
    "        if( not swap):\n",
    "            break\n",
    "\n",
    "    print(swaps)         "
   ]
  },
  {
   "cell_type": "code",
   "execution_count": 25,
   "metadata": {},
   "outputs": [
    {
     "name": "stdout",
     "output_type": "stream",
     "text": [
      "[6, 5, 4, 3, 2, 1, 7]\n",
      "[5, 4, 3, 2, 1, 6, 7]\n",
      "[4, 3, 2, 1, 5, 6, 7]\n",
      "[3, 2, 1, 4, 5, 6, 7]\n",
      "[2, 1, 3, 4, 5, 6, 7]\n",
      "[1, 2, 3, 4, 5, 6, 7]\n",
      "21\n"
     ]
    }
   ],
   "source": [
    "bubbleSort([7,6,5,4,3,2,1])"
   ]
  },
  {
   "cell_type": "markdown",
   "metadata": {},
   "source": [
    "The number of iterations in Bubble Sort algorithm is independent of the values in the list and only depends on the length of the list!\n",
    "It equals (n-1)+(n-2)+...+2+1 =(n-1)n/2\n",
    "\n",
    "Performance can be slightly improved if we stop when no swaps performed in a pass and the list is sorted."
   ]
  },
  {
   "cell_type": "markdown",
   "metadata": {},
   "source": []
  },
  {
   "cell_type": "code",
   "execution_count": 26,
   "metadata": {},
   "outputs": [],
   "source": [
    "# Sorts a sequence in ascending order using the selection sort algorithm.\n",
    "def selectionSort( theSeq ):\n",
    "    n = len( theSeq )\n",
    "    swaps=0\n",
    "    for i in range( n - 1 ):\n",
    "        # Assume the ith element is the smallest.\n",
    "        smallNdx = i\n",
    "        # Determine if any other element contains a smaller value.\n",
    "        for j in range( i + 1, n ):\n",
    "            if theSeq[j] < theSeq[smallNdx] :\n",
    "\n",
    "                smallNdx = j\n",
    "\n",
    "        # Swap the ith value and smallNdx value only if the smallest value is\n",
    "        # not already in its proper position. Some implementations omit testing\n",
    "        # the condition and always swap the two values.\n",
    "        if smallNdx != i :\n",
    "            swaps+=1\n",
    "            tmp = theSeq[i]\n",
    "            theSeq[i] = theSeq[smallNdx]\n",
    "            theSeq[smallNdx] = tmp\n",
    "        print(theSeq) \n",
    "    print(swaps)       "
   ]
  },
  {
   "cell_type": "code",
   "execution_count": 28,
   "metadata": {},
   "outputs": [
    {
     "name": "stdout",
     "output_type": "stream",
     "text": [
      "[1, 5, 4, 3, 2, 8]\n",
      "[1, 2, 4, 3, 5, 8]\n",
      "[1, 2, 3, 4, 5, 8]\n",
      "[1, 2, 3, 4, 5, 8]\n",
      "[1, 2, 3, 4, 5, 8]\n",
      "3\n"
     ]
    }
   ],
   "source": [
    "selectionSort([ 2,5,4,3,1,8 ])"
   ]
  },
  {
   "cell_type": "code",
   "execution_count": 30,
   "metadata": {},
   "outputs": [
    {
     "name": "stdout",
     "output_type": "stream",
     "text": [
      "[1, 7, 6, 4, 2, 5, 3]\n",
      "[1, 2, 6, 4, 7, 5, 3]\n",
      "[1, 2, 3, 4, 7, 5, 6]\n",
      "[1, 2, 3, 4, 7, 5, 6]\n",
      "[1, 2, 3, 4, 5, 7, 6]\n",
      "[1, 2, 3, 4, 5, 6, 7]\n",
      "5\n"
     ]
    }
   ],
   "source": [
    "selectionSort([5,7,6,4,2,1, 3])"
   ]
  },
  {
   "cell_type": "code",
   "execution_count": 45,
   "metadata": {},
   "outputs": [],
   "source": [
    "# Sorts a sequence in ascending order using the insertion sort algorithm.\n",
    "def insertionSort( theSeq ):\n",
    "    n = len( theSeq )\n",
    "    if n<=1:\n",
    "        return theSeq\n",
    "    # Starts with the first item as the only sorted entry.\n",
    "    for i in range( 1, n ) :\n",
    "    # Save the value to be positioned.\n",
    "        value = theSeq[i]\n",
    "        \n",
    "        # Find the position where value fits in the ordered part of the list.\n",
    "        \n",
    "        pos = i-1\n",
    "        while pos >= 0 and value < theSeq[pos ] :\n",
    "            # Shift the items to the right during the search.\n",
    "           # print(\"pos=\", pos, end='\\t')\n",
    "\n",
    "            theSeq[pos+1] = theSeq[pos ]\n",
    "            pos -= 1\n",
    "\n",
    "        # Put the saved value into the open slot.\n",
    "        theSeq[pos+1] = value\n",
    "        \n",
    "        print(theSeq)"
   ]
  },
  {
   "cell_type": "code",
   "execution_count": 46,
   "metadata": {},
   "outputs": [
    {
     "name": "stdout",
     "output_type": "stream",
     "text": [
      "[6, 7, 5, 4, 3, 2, 1]\n",
      "[5, 6, 7, 4, 3, 2, 1]\n",
      "[4, 5, 6, 7, 3, 2, 1]\n",
      "[3, 4, 5, 6, 7, 2, 1]\n",
      "[2, 3, 4, 5, 6, 7, 1]\n",
      "[1, 2, 3, 4, 5, 6, 7]\n"
     ]
    }
   ],
   "source": [
    "insertionSort([7,6,5,4,3,2,1])"
   ]
  },
  {
   "cell_type": "code",
   "execution_count": null,
   "metadata": {},
   "outputs": [],
   "source": []
  },
  {
   "cell_type": "code",
   "execution_count": 16,
   "metadata": {},
   "outputs": [],
   "source": [
    "# Modified version of the binary search that returns the index within\n",
    "# a sorted sequence indicating where the target should be located.\n",
    "def findSortedPosition( theList, target ):\n",
    "    low = 0\n",
    "    high = len(theList) - 1\n",
    "    while low <= high :\n",
    "        mid = (high + low) // 2\n",
    "        if theList[mid] == target :\n",
    "            return mid # Index of the target.\n",
    "        elif target < theList[mid] :\n",
    "             high = mid - 1\n",
    "        else :\n",
    "             low = mid + 1\n",
    "\n",
    "    return low # Index where the target value should be.\n"
   ]
  },
  {
   "cell_type": "code",
   "execution_count": 49,
   "metadata": {},
   "outputs": [],
   "source": [
    "# Merges two sorted lists to create and return a new sorted list.\n",
    "def mergeSortedLists( listA, listB ) :\n",
    "    # Create the new list and initialize the list markers.\n",
    "    newList = list()\n",
    "    a = 0\n",
    "    b = 0 \n",
    "    # Merge the two lists together until one is empty.\n",
    "    while a < len( listA ) and b < len( listB ) :\n",
    "        if listA[a] < listB[b] :\n",
    "            newList.append( listA[a] )\n",
    "            print(listA[a], \"from list A\")\n",
    "            a += 1\n",
    "            \n",
    "        else :\n",
    "            newList.append( listB[b] )\n",
    "            print(listB[b], \"from list B\")\n",
    "\n",
    "            b += 1\n",
    "            \n",
    "\n",
    "    # If listA contains more items, append them to newList.\n",
    "    while a < len( listA ) :\n",
    "        newList.append( listA[a] )\n",
    "        a += 1\n",
    "\n",
    "    # Or if listB contains more items, append them to newList.\n",
    "    while b < len( listB ) :\n",
    "        newList.append( listB[b] )\n",
    "        b += 1\n",
    "\n",
    "    return newList\n"
   ]
  },
  {
   "cell_type": "code",
   "execution_count": 50,
   "metadata": {},
   "outputs": [
    {
     "name": "stdout",
     "output_type": "stream",
     "text": [
      "1 from list A\n",
      "2 from list B\n",
      "2 from list B\n",
      "3 from list A\n",
      "5 from list A\n",
      "6 from list B\n",
      "8 from list A\n"
     ]
    },
    {
     "data": {
      "text/plain": [
       "[1, 2, 2, 3, 5, 6, 8, 9]"
      ]
     },
     "execution_count": 50,
     "metadata": {},
     "output_type": "execute_result"
    }
   ],
   "source": [
    "mergeSortedLists([1,3,5,8 ], [2,2,6,9])"
   ]
  },
  {
   "cell_type": "code",
   "execution_count": 54,
   "metadata": {},
   "outputs": [],
   "source": [
    "# Implementation of the Set ADT using a sorted list.\n",
    "class Set :\n",
    "    # Creates an empty set instance.\n",
    "    def __init__( self ):\n",
    "        self._theElements = list() \n",
    "        # Returns the number of items in the set.\n",
    "    def __len__( self ):\n",
    "        return len( self._theElements )\n",
    "\n",
    "    # Determines if an element is in the set.\n",
    "    def __contains__( self, element ):\n",
    "        ndx = self._findPosition( element )\n",
    "        return ndx < len( self ) and self._theElements[ndx] == element\n",
    "\n",
    "    # Adds a new unique element to the set.\n",
    "    def add( self, element ):\n",
    "        if element not in self :\n",
    "            ndx = self._findPosition( element )\n",
    "            self._theElements.insert( ndx, element )\n",
    "\n",
    "    # Removes an element from the set.\n",
    "    def remove( self, element ):\n",
    "        assert element in self, \"The element must be in the set.\"\n",
    "        ndx = self._findPosition( element )\n",
    "        self._theElements.pop( ndx )\n",
    "\n",
    "    # Determines if this set is a subset of setB.\n",
    "    def isSubsetOf( self, setB ):\n",
    "        print(setB._theElements)\n",
    "        for element in self :\n",
    "            if element not in setB :\n",
    "                return False\n",
    "        return True\n",
    "\n",
    "    # The remaining methods go here.\n",
    "    # ......\n",
    "\n",
    "    # Returns an iterator for traversing the list of items.\n",
    "    def __iter__( self ):\n",
    "        return _SetIterator( self._theElements )\n",
    "\n",
    "    # Finds the position of the element within the ordered list.\n",
    "    def _findPosition( self, element ):\n",
    "        low = 0\n",
    "        high = len( theList ) - 1\n",
    "        while low <= high :\n",
    "            mid = (high + low) / 2\n",
    "            if theList[ mid ] == target :\n",
    "                return mid\n",
    "            elif target < theList[ mid ] :\n",
    "                high = mid - 1\n",
    "            else :\n",
    "                low = mid + 1\n",
    "        return low\n",
    "\n",
    "\n",
    "    def __eq__( self, setB ):\n",
    "        if len( self ) != len( setB ) :\n",
    "             return False\n",
    "        else :\n",
    "            for i in range( len(self) ) :\n",
    "                if self._theElements[i] != setB._theElements[i] :\n",
    "                    return False\n",
    "        return True\n",
    "    \n",
    "\n",
    "    def union( self, setB ):\n",
    "        newSet = Set()\n",
    "        a = 0\n",
    "        b = 0\n",
    "        # Merge the two lists together until one is empty.\n",
    "        while a < len( self ) and b < len( setB ) :\n",
    "            valueA = self._theElements[a]\n",
    "            valueB = setB._theElements[b]\n",
    "            if valueA < valueB :\n",
    "                newSet._theElements.append( valueA )\n",
    "                a += 1\n",
    "            elif valueA > valueB :\n",
    "                newSet._theElements.append( valueB )\n",
    "                b += 1\n",
    "            else : # Only one of the two duplicates are appended.\n",
    "                newSet._theElements.append( valueA )\n",
    "                a += 1\n",
    "                b += 1\n",
    "\n",
    "        # If listA contains more items, append them to newList.\n",
    "        while a < len( self ) :\n",
    "            newSet._theElements.append( self._theElements[a] )\n",
    "            a += 1\n",
    "\n",
    "        # Or if listB contains more, append them to newList.\n",
    "        while b < len( otherSet ) :\n",
    "            newSet._theElements.append( setB._theElements[b] )\n",
    "            b += 1\n",
    "\n",
    "        return newSet"
   ]
  },
  {
   "cell_type": "code",
   "execution_count": 55,
   "metadata": {},
   "outputs": [],
   "source": [
    "A=Set()"
   ]
  },
  {
   "cell_type": "code",
   "execution_count": 56,
   "metadata": {},
   "outputs": [],
   "source": [
    "B=Set()"
   ]
  },
  {
   "cell_type": "code",
   "execution_count": 58,
   "metadata": {},
   "outputs": [
    {
     "name": "stdout",
     "output_type": "stream",
     "text": [
      "[]\n"
     ]
    },
    {
     "ename": "NameError",
     "evalue": "name '_SetIterator' is not defined",
     "output_type": "error",
     "traceback": [
      "\u001b[1;31m---------------------------------------------------------------------------\u001b[0m",
      "\u001b[1;31mNameError\u001b[0m                                 Traceback (most recent call last)",
      "\u001b[1;32mc:\\Code\\Notebooks\\Data Structs\\sorting and searching.ipynb Cell 21\u001b[0m line \u001b[0;36m1\n\u001b[1;32m----> <a href='vscode-notebook-cell:/c%3A/Code/Notebooks/Data%20Structs/sorting%20and%20searching.ipynb#X30sZmlsZQ%3D%3D?line=0'>1</a>\u001b[0m A\u001b[39m.\u001b[39;49misSubsetOf(B)\n",
      "\u001b[1;32mc:\\Code\\Notebooks\\Data Structs\\sorting and searching.ipynb Cell 21\u001b[0m line \u001b[0;36m3\n\u001b[0;32m     <a href='vscode-notebook-cell:/c%3A/Code/Notebooks/Data%20Structs/sorting%20and%20searching.ipynb#X30sZmlsZQ%3D%3D?line=27'>28</a>\u001b[0m \u001b[39mdef\u001b[39;00m \u001b[39misSubsetOf\u001b[39m( \u001b[39mself\u001b[39m, setB ):\n\u001b[0;32m     <a href='vscode-notebook-cell:/c%3A/Code/Notebooks/Data%20Structs/sorting%20and%20searching.ipynb#X30sZmlsZQ%3D%3D?line=28'>29</a>\u001b[0m     \u001b[39mprint\u001b[39m(setB\u001b[39m.\u001b[39m_theElements)\n\u001b[1;32m---> <a href='vscode-notebook-cell:/c%3A/Code/Notebooks/Data%20Structs/sorting%20and%20searching.ipynb#X30sZmlsZQ%3D%3D?line=29'>30</a>\u001b[0m     \u001b[39mfor\u001b[39;00m element \u001b[39min\u001b[39;00m \u001b[39mself\u001b[39m :\n\u001b[0;32m     <a href='vscode-notebook-cell:/c%3A/Code/Notebooks/Data%20Structs/sorting%20and%20searching.ipynb#X30sZmlsZQ%3D%3D?line=30'>31</a>\u001b[0m         \u001b[39mif\u001b[39;00m element \u001b[39mnot\u001b[39;00m \u001b[39min\u001b[39;00m setB :\n\u001b[0;32m     <a href='vscode-notebook-cell:/c%3A/Code/Notebooks/Data%20Structs/sorting%20and%20searching.ipynb#X30sZmlsZQ%3D%3D?line=31'>32</a>\u001b[0m             \u001b[39mreturn\u001b[39;00m \u001b[39mFalse\u001b[39;00m\n",
      "\u001b[1;32mc:\\Code\\Notebooks\\Data Structs\\sorting and searching.ipynb Cell 21\u001b[0m line \u001b[0;36m4\n\u001b[0;32m     <a href='vscode-notebook-cell:/c%3A/Code/Notebooks/Data%20Structs/sorting%20and%20searching.ipynb#X30sZmlsZQ%3D%3D?line=38'>39</a>\u001b[0m \u001b[39mdef\u001b[39;00m \u001b[39m__iter__\u001b[39m( \u001b[39mself\u001b[39m ):\n\u001b[1;32m---> <a href='vscode-notebook-cell:/c%3A/Code/Notebooks/Data%20Structs/sorting%20and%20searching.ipynb#X30sZmlsZQ%3D%3D?line=39'>40</a>\u001b[0m     \u001b[39mreturn\u001b[39;00m _SetIterator( \u001b[39mself\u001b[39m\u001b[39m.\u001b[39m_theElements )\n",
      "\u001b[1;31mNameError\u001b[0m: name '_SetIterator' is not defined"
     ]
    }
   ],
   "source": [
    "A.isSubsetOf(B)"
   ]
  },
  {
   "cell_type": "code",
   "execution_count": null,
   "metadata": {},
   "outputs": [],
   "source": []
  }
 ],
 "metadata": {
  "kernelspec": {
   "display_name": "Python 3",
   "language": "python",
   "name": "python3"
  },
  "language_info": {
   "codemirror_mode": {
    "name": "ipython",
    "version": 3
   },
   "file_extension": ".py",
   "mimetype": "text/x-python",
   "name": "python",
   "nbconvert_exporter": "python",
   "pygments_lexer": "ipython3",
   "version": "3.8.2"
  }
 },
 "nbformat": 4,
 "nbformat_minor": 2
}

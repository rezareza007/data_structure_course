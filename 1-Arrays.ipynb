{
 "cells": [
  {
   "cell_type": "code",
   "execution_count": 8,
   "metadata": {},
   "outputs": [],
   "source": [
    "from array import *"
   ]
  },
  {
   "cell_type": "code",
   "execution_count": 9,
   "metadata": {},
   "outputs": [
    {
     "data": {
      "text/plain": [
       "array('i')"
      ]
     },
     "execution_count": 9,
     "metadata": {},
     "output_type": "execute_result"
    }
   ],
   "source": [
    "a=array('i', [])\n",
    "a"
   ]
  },
  {
   "cell_type": "code",
   "execution_count": 10,
   "metadata": {},
   "outputs": [
    {
     "data": {
      "text/plain": [
       "array('i', [12, 13])"
      ]
     },
     "execution_count": 10,
     "metadata": {},
     "output_type": "execute_result"
    }
   ],
   "source": [
    "a.append(12)\n",
    "a.append(13)\n",
    "a"
   ]
  },
  {
   "cell_type": "code",
   "execution_count": 11,
   "metadata": {},
   "outputs": [
    {
     "data": {
      "text/plain": [
       "2"
      ]
     },
     "execution_count": 11,
     "metadata": {},
     "output_type": "execute_result"
    }
   ],
   "source": [
    "len(a)"
   ]
  },
  {
   "cell_type": "code",
   "execution_count": 12,
   "metadata": {},
   "outputs": [
    {
     "data": {
      "text/plain": [
       "(2325287695392, 2)"
      ]
     },
     "execution_count": 12,
     "metadata": {},
     "output_type": "execute_result"
    }
   ],
   "source": [
    "a.buffer_info()  #address and the length of the array"
   ]
  },
  {
   "cell_type": "code",
   "execution_count": 13,
   "metadata": {},
   "outputs": [
    {
     "data": {
      "text/plain": [
       "b'\\x0c\\x00\\x00\\x00\\r\\x00\\x00\\x00'"
      ]
     },
     "execution_count": 13,
     "metadata": {},
     "output_type": "execute_result"
    }
   ],
   "source": [
    "a.tobytes()"
   ]
  },
  {
   "cell_type": "code",
   "execution_count": 14,
   "metadata": {},
   "outputs": [
    {
     "data": {
      "text/plain": [
       "array('i', [1, 2, 3, 3, 4])"
      ]
     },
     "execution_count": 14,
     "metadata": {},
     "output_type": "execute_result"
    }
   ],
   "source": [
    "a=array('i', [1,2,3])\n",
    "b=array('i', [3,4])\n",
    "a.extend(b)\n",
    "a"
   ]
  },
  {
   "cell_type": "code",
   "execution_count": 15,
   "metadata": {},
   "outputs": [
    {
     "data": {
      "text/plain": [
       "2"
      ]
     },
     "execution_count": 15,
     "metadata": {},
     "output_type": "execute_result"
    }
   ],
   "source": [
    "a.count(3)"
   ]
  },
  {
   "cell_type": "code",
   "execution_count": 16,
   "metadata": {},
   "outputs": [
    {
     "data": {
      "text/plain": [
       "0"
      ]
     },
     "execution_count": 16,
     "metadata": {},
     "output_type": "execute_result"
    }
   ],
   "source": [
    "a.count(5)"
   ]
  },
  {
   "cell_type": "code",
   "execution_count": 17,
   "metadata": {},
   "outputs": [
    {
     "data": {
      "text/plain": [
       "2"
      ]
     },
     "execution_count": 17,
     "metadata": {},
     "output_type": "execute_result"
    }
   ],
   "source": [
    "a.index(3)"
   ]
  },
  {
   "cell_type": "code",
   "execution_count": 18,
   "metadata": {},
   "outputs": [
    {
     "ename": "ValueError",
     "evalue": "array.index(x): x not in array",
     "output_type": "error",
     "traceback": [
      "\u001b[0;31m---------------------------------------------------------------------------\u001b[0m\n\u001b[0;31mValueError\u001b[0m                                Traceback (most recent call last)",
      "In  \u001b[0;34m[18]\u001b[0m:\nLine \u001b[0;34m1\u001b[0m:     \n",
      "\u001b[0;31mValueError\u001b[0m: array.index(x): x not in array\n\u001b[0;31m---------------------------------------------------------------------------\u001b[0m"
     ]
    }
   ],
   "source": [
    "a.index(5)"
   ]
  },
  {
   "cell_type": "code",
   "execution_count": null,
   "metadata": {},
   "outputs": [
    {
     "data": {
      "text/plain": [
       "array('i', [1, 2, 18, 18, 3, 3, 4])"
      ]
     },
     "execution_count": 16,
     "metadata": {},
     "output_type": "execute_result"
    }
   ],
   "source": [
    "a.insert(2, 18)\n",
    "a"
   ]
  },
  {
   "cell_type": "code",
   "execution_count": null,
   "metadata": {},
   "outputs": [],
   "source": [
    "a.insert(2, 20)\n",
    "a"
   ]
  },
  {
   "cell_type": "code",
   "execution_count": null,
   "metadata": {},
   "outputs": [
    {
     "data": {
      "text/plain": [
       "array('i', [1, 18, 18, 3, 3, 4])"
      ]
     },
     "execution_count": 17,
     "metadata": {},
     "output_type": "execute_result"
    }
   ],
   "source": [
    "a.remove(2) #removes the first occurance\n",
    "a"
   ]
  },
  {
   "cell_type": "code",
   "execution_count": null,
   "metadata": {},
   "outputs": [
    {
     "data": {
      "text/plain": [
       "array('i', [1, 18, 18, 3, 4])"
      ]
     },
     "execution_count": 18,
     "metadata": {},
     "output_type": "execute_result"
    }
   ],
   "source": [
    "a.remove(3)\n",
    "a"
   ]
  },
  {
   "cell_type": "code",
   "execution_count": null,
   "metadata": {},
   "outputs": [
    {
     "data": {
      "text/plain": [
       "18"
      ]
     },
     "execution_count": 19,
     "metadata": {},
     "output_type": "execute_result"
    }
   ],
   "source": [
    "a.pop(2) #removes by index"
   ]
  },
  {
   "cell_type": "code",
   "execution_count": null,
   "metadata": {},
   "outputs": [
    {
     "data": {
      "text/plain": [
       "array('i', [1, 18, 3, 4])"
      ]
     },
     "execution_count": 20,
     "metadata": {},
     "output_type": "execute_result"
    }
   ],
   "source": [
    "a"
   ]
  },
  {
   "cell_type": "code",
   "execution_count": null,
   "metadata": {},
   "outputs": [
    {
     "data": {
      "text/plain": [
       "array('i', [4, 3, 18, 1])"
      ]
     },
     "execution_count": 21,
     "metadata": {},
     "output_type": "execute_result"
    }
   ],
   "source": [
    "a.reverse()\n",
    "a"
   ]
  },
  {
   "cell_type": "code",
   "execution_count": null,
   "metadata": {},
   "outputs": [
    {
     "data": {
      "text/plain": [
       "4"
      ]
     },
     "execution_count": 22,
     "metadata": {},
     "output_type": "execute_result"
    }
   ],
   "source": [
    "a.itemsize"
   ]
  },
  {
   "cell_type": "code",
   "execution_count": null,
   "metadata": {},
   "outputs": [
    {
     "data": {
      "text/plain": [
       "'i'"
      ]
     },
     "execution_count": 23,
     "metadata": {},
     "output_type": "execute_result"
    }
   ],
   "source": [
    "a.typecode"
   ]
  },
  {
   "cell_type": "markdown",
   "metadata": {},
   "source": [
    "# Accessing array entries"
   ]
  },
  {
   "cell_type": "code",
   "execution_count": null,
   "metadata": {},
   "outputs": [
    {
     "data": {
      "text/plain": [
       "array('i', [4, 3, 18, 1])"
      ]
     },
     "execution_count": 24,
     "metadata": {},
     "output_type": "execute_result"
    }
   ],
   "source": [
    "a"
   ]
  },
  {
   "cell_type": "code",
   "execution_count": null,
   "metadata": {},
   "outputs": [
    {
     "data": {
      "text/plain": [
       "4"
      ]
     },
     "execution_count": 25,
     "metadata": {},
     "output_type": "execute_result"
    }
   ],
   "source": [
    "a[0]"
   ]
  },
  {
   "cell_type": "code",
   "execution_count": null,
   "metadata": {},
   "outputs": [
    {
     "data": {
      "text/plain": [
       "3"
      ]
     },
     "execution_count": 26,
     "metadata": {},
     "output_type": "execute_result"
    }
   ],
   "source": [
    "a[1]"
   ]
  },
  {
   "cell_type": "code",
   "execution_count": null,
   "metadata": {},
   "outputs": [
    {
     "ename": "IndexError",
     "evalue": "array index out of range",
     "output_type": "error",
     "traceback": [
      "\u001b[0;31m---------------------------------------------------------------------------\u001b[0m\n\u001b[0;31mIndexError\u001b[0m                                Traceback (most recent call last)",
      "In  \u001b[0;34m[27]\u001b[0m:\nLine \u001b[0;34m1\u001b[0m:     \n",
      "\u001b[0;31mIndexError\u001b[0m: array index out of range\n\u001b[0;31m---------------------------------------------------------------------------\u001b[0m"
     ]
    }
   ],
   "source": [
    "a[5]"
   ]
  },
  {
   "cell_type": "code",
   "execution_count": null,
   "metadata": {},
   "outputs": [
    {
     "name": "stdout",
     "output_type": "stream",
     "text": [
      "4\t3\t18\t1\t"
     ]
    }
   ],
   "source": [
    "for n in a:\n",
    "    print(n, end='\\t')"
   ]
  },
  {
   "cell_type": "markdown",
   "metadata": {},
   "source": [
    "# Important operations on arrays"
   ]
  },
  {
   "cell_type": "code",
   "execution_count": null,
   "metadata": {},
   "outputs": [],
   "source": [
    "# insertion\n",
    "def insert(A, pos, value):\n",
    "    n=len(A)\n",
    "    A.append(0)\n",
    "    for i in range(n-1,pos-1 , -1):\n",
    "        A[i+1]=A[i]\n",
    "    A[pos]=value    \n"
   ]
  },
  {
   "cell_type": "code",
   "execution_count": null,
   "metadata": {},
   "outputs": [
    {
     "name": "stdout",
     "output_type": "stream",
     "text": [
      "array('i', [4, 3, 18, 1])\n"
     ]
    },
    {
     "data": {
      "text/plain": [
       "array('i', [4, 3, 100, 18, 1])"
      ]
     },
     "execution_count": 30,
     "metadata": {},
     "output_type": "execute_result"
    }
   ],
   "source": [
    "print(a)\n",
    "insert(a,2, 100)\n",
    "a"
   ]
  },
  {
   "cell_type": "code",
   "execution_count": null,
   "metadata": {},
   "outputs": [],
   "source": [
    "def delete(A, pos):\n",
    "    n=len(A)\n",
    "    if pos>=n:\n",
    "        print(\"Position out of range.\")\n",
    "        return\n",
    "    for i in range(pos, n-1):\n",
    "        A[i]=A[i+1]\n",
    "    A.pop(n-1)    "
   ]
  },
  {
   "cell_type": "code",
   "execution_count": null,
   "metadata": {},
   "outputs": [
    {
     "name": "stdout",
     "output_type": "stream",
     "text": [
      "array('i', [4, 3, 100, 18, 1])\n"
     ]
    },
    {
     "data": {
      "text/plain": [
       "array('i', [3, 100, 18, 1])"
      ]
     },
     "execution_count": 32,
     "metadata": {},
     "output_type": "execute_result"
    }
   ],
   "source": [
    "print(a)\n",
    "delete(a,0)\n",
    "a"
   ]
  },
  {
   "cell_type": "markdown",
   "metadata": {},
   "source": [
    "## Searching in arrays"
   ]
  },
  {
   "cell_type": "code",
   "execution_count": null,
   "metadata": {},
   "outputs": [],
   "source": [
    "# Linear search\n",
    "def LinearSearch(A, key):\n",
    "    n=len(A)\n",
    "    for i in range(0,n):\n",
    "        if a[i]==key:\n",
    "            return i\n",
    "\n",
    "    return -1    "
   ]
  },
  {
   "cell_type": "code",
   "execution_count": null,
   "metadata": {},
   "outputs": [
    {
     "name": "stdout",
     "output_type": "stream",
     "text": [
      "array('i', [3, 100, 18, 1])\n"
     ]
    },
    {
     "data": {
      "text/plain": [
       "3"
      ]
     },
     "execution_count": 35,
     "metadata": {},
     "output_type": "execute_result"
    }
   ],
   "source": [
    "print(a)\n",
    "LinearSearch(a,1)"
   ]
  },
  {
   "cell_type": "markdown",
   "metadata": {},
   "source": [
    "### Searching in a sorted array"
   ]
  },
  {
   "cell_type": "code",
   "execution_count": null,
   "metadata": {},
   "outputs": [],
   "source": [
    "def BinarySearch(A,key):\n",
    "    min=0\n",
    "    max=len(A)-1\n",
    "\n",
    "    while(max>min+1):\n",
    "        #print(min, max)\n",
    "        avg=int((max+min)/2)\n",
    "        if key==A[avg]:\n",
    "            return avg\n",
    "        elif key>A[avg]:\n",
    "            min=avg\n",
    "        else:\n",
    "            max=avg\n",
    "\n",
    "    return -1            \n",
    "\n"
   ]
  },
  {
   "cell_type": "code",
   "execution_count": null,
   "metadata": {},
   "outputs": [],
   "source": [
    "from array import *\n",
    "A=array('i', [1,3, 6, 9, 11, 20])"
   ]
  },
  {
   "cell_type": "code",
   "execution_count": null,
   "metadata": {},
   "outputs": [
    {
     "data": {
      "text/plain": [
       "2"
      ]
     },
     "execution_count": 7,
     "metadata": {},
     "output_type": "execute_result"
    }
   ],
   "source": [
    "BinarySearch(A, 6)"
   ]
  },
  {
   "cell_type": "code",
   "execution_count": null,
   "metadata": {},
   "outputs": [
    {
     "data": {
      "text/plain": [
       "4"
      ]
     },
     "execution_count": 8,
     "metadata": {},
     "output_type": "execute_result"
    }
   ],
   "source": [
    "BinarySearch(A,11)"
   ]
  },
  {
   "cell_type": "code",
   "execution_count": null,
   "metadata": {},
   "outputs": [
    {
     "data": {
      "text/plain": [
       "-1"
      ]
     },
     "execution_count": 9,
     "metadata": {},
     "output_type": "execute_result"
    }
   ],
   "source": [
    "BinarySearch(A,100)"
   ]
  },
  {
   "cell_type": "markdown",
   "metadata": {},
   "source": [
    "# Implementing fixed-sized arrays from scratch"
   ]
  },
  {
   "cell_type": "code",
   "execution_count": 92,
   "metadata": {},
   "outputs": [],
   "source": [
    "import ctypes \n",
    "\n",
    "class Array :\n",
    " # Creates an array with size elements.\n",
    "   def __init__( self, size ):\n",
    "      assert size > 0, \"Array size must be > 0\"\n",
    "      print(\"Initializing an array of size \", size)\n",
    "      self._size = size\n",
    "      # Create the array structure using the ctypes module.\n",
    "      PyArrayType = ctypes.py_object * size\n",
    "      self._elements = PyArrayType()\n",
    "      # Initialize each element.\n",
    "      self.clear( 0)\n",
    "\n",
    "   # Returns the size of the array.\n",
    "   def __len__( self ):\n",
    "      return self._size\n",
    "\n",
    "   # Gets the contents of the index element.\n",
    "   def __getitem__( self, index ):\n",
    "      #print(\"invoking getitem function.\")\n",
    "      assert index >= 0 and index < len(self), \"Array subscript out of range\"\n",
    "      return self._elements[ index ]\n",
    "\n",
    "   # Puts the value in the array element at index position.\n",
    "   def __setitem__( self, index, value ):\n",
    "      #print(\"Invoking setitem function.\")\n",
    "      assert index >= 0 and index < len(self), \"Array subscript out of range\"\n",
    "      self._elements[ index ] = value\n",
    "\n",
    "   # Clears the array by setting each element to the given value.\n",
    "   def clear( self, value ):\n",
    "      for i in range( len(self) ) :\n",
    "         self._elements[i] = value\n",
    "\n",
    "   # Returns the array's iterator for traversing the elements.\n",
    "      def __iter__( self ):\n",
    "         return _ArrayIterator( self._elements )\n",
    "\n",
    " # An iterator for the Array ADT.\n",
    "class _ArrayIterator :\n",
    "   def __init__( self, theArray ):\n",
    "      self._arrayRef = theArray\n",
    "      self._curNdx = 0\n",
    "\n",
    "   def __iter__( self ):\n",
    "      return self\n",
    "\n",
    "   def __next__( self ):\n",
    "      if self._curNdx < len( self._arrayRef ) :\n",
    "         entry = self._arrayRef[ self._curNdx ]\n",
    "         self._curNdx += 1\n",
    "         return entry\n",
    "      else :\n",
    "         #print(\"End of the array!\")\n",
    "         #raise StopIteration\n",
    "         return None"
   ]
  },
  {
   "cell_type": "code",
   "execution_count": 93,
   "metadata": {},
   "outputs": [
    {
     "name": "stdout",
     "output_type": "stream",
     "text": [
      "Initializing an array of size  10\n"
     ]
    }
   ],
   "source": [
    "X=Array(10)"
   ]
  },
  {
   "cell_type": "code",
   "execution_count": 94,
   "metadata": {},
   "outputs": [
    {
     "data": {
      "text/plain": [
       "<__main__.Array object at 0x0000021D6764BC10>"
      ]
     },
     "execution_count": 94,
     "metadata": {},
     "output_type": "execute_result"
    }
   ],
   "source": [
    "X"
   ]
  },
  {
   "cell_type": "code",
   "execution_count": 95,
   "metadata": {},
   "outputs": [
    {
     "data": {
      "text/plain": [
       "10"
      ]
     },
     "execution_count": 95,
     "metadata": {},
     "output_type": "execute_result"
    }
   ],
   "source": [
    "len(X)"
   ]
  },
  {
   "cell_type": "code",
   "execution_count": 96,
   "metadata": {},
   "outputs": [
    {
     "data": {
      "text/plain": [
       "20"
      ]
     },
     "execution_count": 96,
     "metadata": {},
     "output_type": "execute_result"
    }
   ],
   "source": [
    "X[1]=20\n",
    "X[1]"
   ]
  },
  {
   "cell_type": "code",
   "execution_count": 97,
   "metadata": {},
   "outputs": [],
   "source": [
    "X[2]=\"string\""
   ]
  },
  {
   "cell_type": "code",
   "execution_count": 98,
   "metadata": {},
   "outputs": [
    {
     "name": "stdout",
     "output_type": "stream",
     "text": [
      "0   20   string   0   0   0   0   0   0   0   "
     ]
    },
    {
     "ename": "AssertionError",
     "evalue": "Array subscript out of range",
     "output_type": "error",
     "traceback": [
      "\u001b[0;31m---------------------------------------------------------------------------\u001b[0m\n\u001b[0;31mAssertionError\u001b[0m                            Traceback (most recent call last)",
      "In  \u001b[0;34m[98]\u001b[0m:\nLine \u001b[0;34m1\u001b[0m:     \n",
      "In  \u001b[0;34m[92]\u001b[0m:\nLine \u001b[0;34m22\u001b[0m:    \n",
      "\u001b[0;31mAssertionError\u001b[0m: Array subscript out of range\n\u001b[0;31m---------------------------------------------------------------------------\u001b[0m"
     ]
    }
   ],
   "source": [
    "for x in X:\n",
    "    print(x, end='   ')"
   ]
  },
  {
   "cell_type": "code",
   "execution_count": null,
   "metadata": {},
   "outputs": [],
   "source": []
  },
  {
   "cell_type": "code",
   "execution_count": null,
   "metadata": {},
   "outputs": [],
   "source": []
  },
  {
   "cell_type": "markdown",
   "metadata": {},
   "source": [
    "# Implementing 2d arrays\n"
   ]
  },
  {
   "cell_type": "code",
   "execution_count": 99,
   "metadata": {},
   "outputs": [],
   "source": [
    "# Implementation of the Array2D ADT using an array of arrays.\n",
    "\n",
    "class Array2D :\n",
    "    # Creates a 2-D array of size numRows x numCols.\n",
    "    def __init__( self, numRows, numCols ):\n",
    "        # Create a 1-D array to store an array reference for each row.\n",
    "        self._theRows = Array( numRows ) \n",
    "        # Create the 1-D arrays for each row of the 2-D array.\n",
    "        for i in range( numRows ) :\n",
    "            self._theRows[i] = Array( numCols )\n",
    "\n",
    "    # Returns the number of rows in the 2-D array.\n",
    "    def numRows( self ):\n",
    "        return len( self._theRows )\n",
    "\n",
    "    # Returns the number of columns in the 2-D array.\n",
    "    def numCols( self ):\n",
    "        return len( self._theRows[0] )\n",
    "\n",
    "    # Clears the array by setting every element to the given value.\n",
    "    def clear( self, value ):\n",
    "        for i in  range(len(self._theRows)) :\n",
    "            self._theRows[i].clear( value )\n",
    "\n",
    "    # Gets the contents of the element at position [i, j]\n",
    "    def __getitem__( self, ndxTuple ):\n",
    "        assert len(ndxTuple) == 2, \"Invalid number of array subscripts.\"\n",
    "        #row = ndxTuple[0]\n",
    "        #col = ndxTuple[1]\n",
    "        row, col=ndxTuple\n",
    "        assert row >= 0 and row < self.numRows() \\\n",
    "        and col >= 0 and col < self.numCols(), \\\n",
    "        \"Array subscript out of range.\"\n",
    "        the1dArray = self._theRows[row]\n",
    "        return the1dArray[col]\n",
    "\n",
    "    # Sets the contents of the element at position [i,j] to value.\n",
    "    def __setitem__( self, ndxTuple, value ):\n",
    "        assert len(ndxTuple) == 2, \"Invalid number of array subscripts.\"\n",
    "        row = ndxTuple[0]\n",
    "        col = ndxTuple[1]\n",
    "        assert row >= 0 and row < self.numRows() \\\n",
    "        and col >= 0 and col < self.numCols(), \\\n",
    "        \"Array subscript out of range.\"\n",
    "        the1dArray = self._theRows[row]\n",
    "        the1dArray[col] = value\n"
   ]
  },
  {
   "cell_type": "code",
   "execution_count": 100,
   "metadata": {},
   "outputs": [
    {
     "name": "stdout",
     "output_type": "stream",
     "text": [
      "Initializing an array of size  2\n",
      "Initializing an array of size  3\n",
      "Initializing an array of size  3\n"
     ]
    }
   ],
   "source": [
    "X=Array2D(2,3)"
   ]
  },
  {
   "cell_type": "code",
   "execution_count": 101,
   "metadata": {},
   "outputs": [],
   "source": [
    "X[1,2]=3"
   ]
  },
  {
   "cell_type": "code",
   "execution_count": 102,
   "metadata": {},
   "outputs": [
    {
     "data": {
      "text/plain": [
       "3"
      ]
     },
     "execution_count": 102,
     "metadata": {},
     "output_type": "execute_result"
    }
   ],
   "source": [
    "X[1,2]"
   ]
  },
  {
   "cell_type": "markdown",
   "metadata": {},
   "source": [
    "# Matrices\n"
   ]
  },
  {
   "cell_type": "code",
   "execution_count": 103,
   "metadata": {},
   "outputs": [],
   "source": [
    "# Implementation of the Matrix ADT using a 2-D array.\n",
    "#from array import Array2D \n",
    "class Matrix :\n",
    "    # Creates a matrix of size numRows x numCols initialized to 0.\n",
    "    def __init__( self, numRows, numCols ):\n",
    "        self._theGrid = Array2D( numRows, numCols )\n",
    "        self._theGrid.clear( 0 )\n",
    "\n",
    "    # Returns the number of rows in the matrix.\n",
    "    def numRows( self ):\n",
    "        return self._theGrid.numRows()\n",
    "\n",
    "    # Returns the number of columns in the matrix.\n",
    "    def numCols( self ):\n",
    "        return self._theGrid.numCols()\n",
    "\n",
    "    # Returns the value of element (i, j): x[i,j]\n",
    "    def __getitem__( self, ndxTuple ):\n",
    "        return self._theGrid[( ndxTuple[0], ndxTuple[1] )]\n",
    "\n",
    "    # Sets the value of element (i,j) to the value s: x[i,j] = s\n",
    "    def __setitem__( self, ndxTuple, scalar ):\n",
    "        self._theGrid[ ndxTuple[0], ndxTuple[1] ] = scalar\n",
    "    \n",
    "    # Scales the matrix by the given scalar.\n",
    "    def scaleBy( self, scalar ):\n",
    "        for r in range( self.numRows() ) :\n",
    "            for c in range( self.numCols() ) :\n",
    "                self[ r, c ] *= scalar\n",
    "\n",
    "    # Creates and returns a new matrix that is the transpose of this matrix.\n",
    "    def tranpose( self ):\n",
    "        #Write the code! ......\n",
    "        A=Matrix(self.numCols(), self.numRows())\n",
    "        for r in range( self.numRows() ) :\n",
    "            for c in range( self.numCols() ) :\n",
    "                A[c,r]=self[r,c]\n",
    "        return A        \n",
    "\n",
    "\n",
    "    # Creates and returns a new matrix that results from matrix addition.\n",
    "    def __add__( self, rhsMatrix ):\n",
    "        assert rhsMatrix.numRows() == self.numRows() and \\\n",
    "        rhsMatrix.numCols() == self.numCols(), \\\n",
    "        \"Matrix sizes not compatible for the add operation.\"\n",
    "    \n",
    "        # Create the new matrix.\n",
    "        newMatrix = Matrix( self.numRows(), self.numCols() )\n",
    "        # Add the corresponding elements in the two matrices.\n",
    "        for r in range( self.numRows() ) :\n",
    "            for c in range( self.numCols() ) :\n",
    "                newMatrix[ r, c ] = self[ r, c ] + rhsMatrix[ r, c ]\n",
    "        return newMatrix\n",
    "\n",
    "    # Creates and returns a new matrix that results from matrix subtraction.\n",
    "    #def __sub__( self, rhsMatrix ):\n",
    "    #    #Write the code ......\n",
    "\n",
    "    # Creates and returns a new matrix resulting from matrix multiplication.\n",
    "    def __mul__( self, rhsMatrix ):\n",
    "        #Write the code  ......\n",
    "        assert self.numCols()==rhsMatrix.numRows(), \"Matrix sizes do not match for multiplication.\"\n",
    "        A=Matrix(self.numRows(), rhsMatrix.numCols())\n",
    "        for i in range(A.numRows()):\n",
    "            for j in range(A.numCols()):\n",
    "                X=0\n",
    "                for k in range(self.numCols()):\n",
    "                    X+=self[i,k]* rhsMatrix[k,j]\n",
    "\n",
    "                A[i,j]=X\n",
    "        return A        \n",
    "    def printt(self):\n",
    "        for i in range (self.numRows()):\n",
    "            for j in range(self.numCols()):\n",
    "                print(self[i,j], end=\" \")\n",
    "            print(\"\\n\")    "
   ]
  },
  {
   "cell_type": "code",
   "execution_count": 104,
   "metadata": {},
   "outputs": [
    {
     "name": "stdout",
     "output_type": "stream",
     "text": [
      "Initializing an array of size  2\n",
      "Initializing an array of size  2\n",
      "Initializing an array of size  2\n",
      "Initializing an array of size  2\n",
      "Initializing an array of size  1\n",
      "Initializing an array of size  1\n"
     ]
    }
   ],
   "source": [
    "A=Matrix(2,2)\n",
    "B=Matrix(2,1)\n",
    "\n",
    "A[0,0]=1\n",
    "A[1,1]=2\n",
    "\n",
    "B[1,0]=-1\n",
    "B[0,0]=3"
   ]
  },
  {
   "cell_type": "code",
   "execution_count": null,
   "metadata": {},
   "outputs": [],
   "source": []
  },
  {
   "cell_type": "code",
   "execution_count": 105,
   "metadata": {},
   "outputs": [
    {
     "name": "stdout",
     "output_type": "stream",
     "text": [
      "Initializing an array of size  2\n",
      "Initializing an array of size  1\n",
      "Initializing an array of size  1\n"
     ]
    }
   ],
   "source": [
    "C=A*B"
   ]
  },
  {
   "cell_type": "code",
   "execution_count": 106,
   "metadata": {},
   "outputs": [
    {
     "name": "stdout",
     "output_type": "stream",
     "text": [
      "3 \n",
      "\n",
      "-2 \n",
      "\n"
     ]
    }
   ],
   "source": [
    "C.printt()"
   ]
  },
  {
   "cell_type": "markdown",
   "metadata": {},
   "source": [
    "# Game of life"
   ]
  },
  {
   "cell_type": "code",
   "execution_count": 111,
   "metadata": {},
   "outputs": [],
   "source": [
    "# Implements the LifeGrid ADT for use with the game of Life.\n",
    "#from array import Array2D\n",
    "class LifeGrid :\n",
    "    # Defines constants to represent the cell states.\n",
    "    DEAD_CELL = 0\n",
    "    LIVE_CELL = 1 \n",
    "    \n",
    "    #Creates the game grid and initializes the cells to dead.\n",
    "    def __init__( self, numRows, numCols ):\n",
    "        # Allocate the 2-D array for the grid.\n",
    "        self._grid = Array2D( numRows, numCols )\n",
    "        # Clear the grid and set all cells to dead.\n",
    "        self.configure( list() )\n",
    "\n",
    "    # Returns the number of rows in the grid.\n",
    "    def numRows( self ):\n",
    "        return self._grid.numRows()\n",
    "\n",
    "    # Returns the number of columns in the grid.\n",
    "    def numCols( self ):\n",
    "        return self._grid.numCols()\n",
    "\n",
    "    # Configures the grid to contain the given live cells.\n",
    "    def configure( self, coordList ):\n",
    "        # Clear the game grid.\n",
    "        for i in range( self.numRows() ):\n",
    "            for j in range( self.numCols() ):\n",
    "                self.clearCell( i, j )\n",
    "\n",
    "        # Set the indicated cells to be alive.\n",
    "        for coord in coordList :\n",
    "            self.setCell( coord[0], coord[1] )\n",
    "\n",
    "    # Does the indicated cell contain a live organism?\n",
    "    def isLiveCell( self, row, col ):\n",
    "        return self._grid[row, col] == LifeGrid.LIVE_CELL\n",
    "\n",
    "    # Clears the indicated cell by setting it to dead.\n",
    "    def clearCell( self, row, col ):\n",
    "        self._grid[row, col] = LifeGrid.DEAD_CELL\n",
    "\n",
    "    # Sets the indicated cell to be alive.\n",
    "    def setCell( self, row, col ):\n",
    "        self._grid[row, col] = LifeGrid.LIVE_CELL\n",
    "\n",
    "    # Returns the number of live neighbors for the given cell.\n",
    "    def numLiveNeighbors( self, row, col ):\n",
    "        numLiveNbhs=0\n",
    "        for i in range(-1, 2):\n",
    "            for j in range(-1,2):\n",
    "                if i==0 and j==0: #excluding the cell itself\n",
    "                    continue\n",
    "                nbh=(i+row, j+col)\n",
    "                if nbh[0]<0 or nbh[0]>=self.numRows() \\\n",
    "                or nbh[1]<0 or nbh[1]>=self.numCols():\n",
    "                    continue\n",
    "                numLiveNbhs+=1 if self.isLiveCell(nbh[0], nbh[1]) else 0\n",
    "        return numLiveNbhs"
   ]
  },
  {
   "cell_type": "code",
   "execution_count": 113,
   "metadata": {},
   "outputs": [
    {
     "name": "stdout",
     "output_type": "stream",
     "text": [
      "Initializing an array of size  5\n",
      "Initializing an array of size  5\n",
      "Initializing an array of size  5\n",
      "Initializing an array of size  5\n",
      "Initializing an array of size  5\n",
      "Initializing an array of size  5\n",
      ". . . . . \n",
      ". @ @ . . \n",
      ". . @ . . \n",
      ". . @ . . \n",
      ". . . . . \n",
      "\n",
      ". . . . . \n",
      ". @ @ . . \n",
      ". . @ @ . \n",
      ". . . . . \n",
      ". . . . . \n",
      "\n",
      ". . . . . \n",
      ". @ @ @ . \n",
      ". @ @ @ . \n",
      ". . . . . \n",
      ". . . . . \n",
      "\n",
      ". . @ . . \n",
      ". @ . @ . \n",
      ". @ . @ . \n",
      ". . @ . . \n",
      ". . . . . \n",
      "\n",
      ". . @ . . \n",
      ". @ . @ . \n",
      ". @ . @ . \n",
      ". . @ . . \n",
      ". . . . . \n",
      "\n",
      ". . @ . . \n",
      ". @ . @ . \n",
      ". @ . @ . \n",
      ". . @ . . \n",
      ". . . . . \n",
      "\n",
      ". . @ . . \n",
      ". @ . @ . \n",
      ". @ . @ . \n",
      ". . @ . . \n",
      ". . . . . \n",
      "\n",
      ". . @ . . \n",
      ". @ . @ . \n",
      ". @ . @ . \n",
      ". . @ . . \n",
      ". . . . . \n",
      "\n",
      ". . @ . . \n",
      ". @ . @ . \n",
      ". @ . @ . \n",
      ". . @ . . \n",
      ". . . . . \n",
      "\n"
     ]
    }
   ],
   "source": [
    "# Program for playing the game of Life.\n",
    "#from life import LifeGrid\n",
    "# Define the initial configuration of live cells.\n",
    "INIT_CONFIG = [ (1,1), (1,2), (2,2), (3,2) ] \n",
    "#Set the size of the grid.\n",
    "GRID_WIDTH = 5\n",
    "GRID_HEIGHT = 5\n",
    "\n",
    "# Indicate the number of generations.\n",
    "NUM_GENS = 8\n",
    "\n",
    "def main():\n",
    "    # Construct the game grid and configure it.\n",
    "    grid = LifeGrid( GRID_WIDTH, GRID_HEIGHT )\n",
    "    grid.configure( INIT_CONFIG )\n",
    "\n",
    "    # Play the game.\n",
    "    draw( grid )\n",
    "    for i in range( NUM_GENS ):\n",
    "        evolve( grid )\n",
    "        draw( grid )\n",
    "\n",
    " # Generates the next generation of organisms.\n",
    "def evolve( grid ):\n",
    "    # List for storing the live cells of the next generation.\n",
    "    liveCells =[] \n",
    "\n",
    "    # Iterate over the elements of the grid.\n",
    "    for i in range( grid.numRows() ) :\n",
    "        for j in range( grid.numCols() ) :\n",
    "\n",
    "            # Determine the number of live neighbors for this cell.\n",
    "            Liveneighbors = grid.numLiveNeighbors( i, j )\n",
    "\n",
    "            # Add the (i,j) tuple to liveCells if this cell contains\n",
    "            # a live organism in the next generation.\n",
    "            if (Liveneighbors == 2 and grid.isLiveCell( i, j )) or \\\n",
    "            (Liveneighbors == 3 ) :\n",
    "                liveCells.append( (i, j) )\n",
    "                \n",
    "\n",
    "    # Reconfigure the grid using the liveCells coord list.\n",
    "    grid.configure( liveCells )\n",
    "\n",
    " # Prints a text-based representation of the game grid.\n",
    "def draw( grid ):\n",
    "    for i in range( grid.numRows() ) :\n",
    "        for j in range( grid.numCols() ) :\n",
    "            if grid.isLiveCell(i,j):\n",
    "                print(\"@\", end=\" \")\n",
    "            else:\n",
    "                print(\".\", end=\" \")\n",
    "        print()  \n",
    "    print()              \n",
    " \n",
    " \n",
    "\n",
    " # Executes the main routine.\n",
    "main()"
   ]
  },
  {
   "cell_type": "markdown",
   "metadata": {},
   "source": [
    "# Sparse Matrices"
   ]
  },
  {
   "cell_type": "code",
   "execution_count": null,
   "metadata": {},
   "outputs": [],
   "source": [
    "class SparseMatrix :\n",
    "    \n",
    "    # Create a sparse matrix of size numRows x numCols initialized to 0.\n",
    "    def __init__( self, numRows, numCols ):\n",
    "        self._numRows = numRows\n",
    "        self._numCols = numCols\n",
    "        self._elementList = []\n",
    "\n",
    "    # Return the number of rows in the matrix.\n",
    "    def numRows( self ):\n",
    "        return self._numRows\n",
    "\n",
    "    # Return the number of columns in the matrix.\n",
    "    def numCols( self ):\n",
    "        return self._numCols\n",
    "\n",
    "    # Return the value of element (i, j): x[i,j]\n",
    "    def __getitem__( self, ndxTuple ):\n",
    "        i,j=ndxTuple\n",
    "        \n",
    "        assert i>0 and i<self.numRows() and j>0 and j<self.numCols(), \"Index out of range.\"\n",
    "        \n",
    "        index=self._findPosition(i,j)\n",
    "        if index==None:\n",
    "            return 0\n",
    "        else:\n",
    "            return self._elementList[index]\n",
    "            \n",
    "\n",
    "\n",
    "    # Set the value of element (i,j) to the value s: x[i,j] = s\n",
    "    def __setitem__( self, ndxTuple, scalar ):\n",
    "        ndx = self._findPosition( ndxTuple[0], ndxTuple[1] )\n",
    "        \n",
    "        if ndx is not None : # if the element is found in the list.\n",
    "            if scalar != 0.0 :\n",
    "                self._elementList[ndx].value = scalar\n",
    "            else :\n",
    "                self._elementList.pop( ndx )\n",
    "        else : # if the element is zero and not in the list.\n",
    "            if scalar != 0.0 :\n",
    "                element = _MatrixElement( ndxTuple[0], ndxTuple[1], scalar )\n",
    "        self._elementList.append( element )\n",
    "\n",
    "    # Scale the matrix by the given scalar.\n",
    "    def scaleBy( self, scalar ):\n",
    "        if scalar==0:\n",
    "            self._elementList.clear()\n",
    "            return\n",
    "        \n",
    "        for element in self._elementList :\n",
    "            element.value *= scalar\n",
    "\n",
    "    \n",
    "    \n",
    "    # Helper method used to find a specific matrix element (row,col) in the\n",
    "    # list of non-zero entries. None is returned if the element is not found.\n",
    "    def _findPosition( self, row, col ): #The turns the index of the element\n",
    "        n = len( self._elementList )\n",
    "        for i in range( n ) :\n",
    "            if row == self._elementList[i].row and \\\n",
    "            col == self._elementList[i].col:\n",
    "                return i # return the index of the element if found.\n",
    "        return None # return None when the element is zero.\n",
    "\n",
    "    # Storage class for holding the non-zero matrix elements.\n",
    "    class _MatrixElement:\n",
    "         def __init__( self, row, col, value ):\n",
    "            self.row = row\n",
    "            self.col = col\n",
    "            self.value = value\n",
    "\n",
    "\n",
    "    def __add__( self, rhsMatrix ):\n",
    "        assert rhsMatrix.numRows() == self.numRows() and \\\n",
    "        rhsMatrix.numCols() == self.numCols(), \\\n",
    "        \"Matrix sizes not compatible for the add operation.\" \n",
    "        \n",
    "        # Create the new matrix.\n",
    "        newMatrix = SparseMatrix( self.numRows(), self.numCols() )\n",
    "\n",
    "        # Duplicate the lhs matrix. The elements are mutable, thus we must\n",
    "        # create new objects and not simply copy the references.\n",
    "        for element in self._elementList :\n",
    "            dupElement = _MatrixElement(element.row, element.col, element.value)\n",
    "            newMatrix._elementList.append( dupElement )\n",
    "\n",
    "        # Iterate through each non-zero element of the rhsMatrix.\n",
    "        for element in rhsMatrix._elementList :\n",
    "            # Get the value of the corresponding element in the new matrix.\n",
    "            value = newMatrix[ element.row, element.col ] #value from the left hand matrix\n",
    "            value += element.value  #element.value is from the right hand matrix\n",
    "            # Store the new value back to the new matrix.\n",
    "            newMatrix[ element.row, element.col ] = value\n",
    "\n",
    "            # Return the new matrix.\n",
    "            return newMatrix\n",
    "\n",
    "\n",
    "    def __mul__( self, rhsMatrix ):\n",
    "        # (A*B)_i,j=\\sum_k A_i,k * B_k,j \n",
    "        \n",
    "        # dict to keep the nonzero summands of (A*B)_i,j\n",
    "        nonzero_elements={}\n",
    "        assert self.numCols()==rhsMatrix.numRows(), \"Matrices can't be multiplied!\"\n",
    "\n",
    "        product=SparseMatrix(self.numRows(), rhsMatrix.numCols())\n",
    "\n",
    "\n",
    "        for element in self._elementList:\n",
    "            i=element.row\n",
    "            k=element.col\n",
    "\n",
    "            \n",
    "            for element2 in rhsMatrix._elementList:\n",
    "                if k==element2.row:\n",
    "                    j=element2.col\n",
    "\n",
    "                    s=element.value* element2.value\n",
    "\n",
    "                    if (i,j) in nonzero_elements:\n",
    "                        nonzero_elements[(i,j)].append(s)\n",
    "                    else:\n",
    "                        nonzero_elements[(i,j)]=[s] \n",
    "\n",
    "        for (i,j) in nonzero_elements:\n",
    "            S=sum(nonzero_elements[(i,j)])\n",
    "            product[i,j]=S\n",
    "        return product    \n",
    "\n",
    "\n",
    "\n",
    "\n",
    "\n",
    "\n",
    "\n",
    "\n",
    "\n"
   ]
  },
  {
   "cell_type": "code",
   "execution_count": null,
   "metadata": {},
   "outputs": [],
   "source": []
  },
  {
   "cell_type": "code",
   "execution_count": null,
   "metadata": {},
   "outputs": [],
   "source": []
  },
  {
   "cell_type": "code",
   "execution_count": null,
   "metadata": {},
   "outputs": [],
   "source": []
  }
 ],
 "metadata": {
  "kernelspec": {
   "display_name": "Python 3.10 (XPython Raw)",
   "language": "python",
   "name": "xpython-raw"
  },
  "language_info": {
   "file_extension": ".py",
   "mimetype": "text/x-python",
   "name": "python",
   "version": "3.10.2"
  },
  "orig_nbformat": 4
 },
 "nbformat": 4,
 "nbformat_minor": 2
}
